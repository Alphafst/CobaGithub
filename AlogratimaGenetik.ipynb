{
  "nbformat": 4,
  "nbformat_minor": 0,
  "metadata": {
    "colab": {
      "name": "AlogratimaGenetik.ipynb",
      "provenance": [],
      "include_colab_link": true
    },
    "kernelspec": {
      "name": "python3",
      "display_name": "Python 3"
    },
    "language_info": {
      "name": "python"
    }
  },
  "cells": [
    {
      "cell_type": "markdown",
      "metadata": {
        "id": "view-in-github",
        "colab_type": "text"
      },
      "source": [
        "<a href=\"https://colab.research.google.com/github/Alphafst/CobaGithub/blob/master/AlogratimaGenetik.ipynb\" target=\"_parent\"><img src=\"https://colab.research.google.com/assets/colab-badge.svg\" alt=\"Open In Colab\"/></a>"
      ]
    },
    {
      "cell_type": "code",
      "metadata": {
        "id": "X-lpzRw8dzSE"
      },
      "source": [
        "import numpy as np, random, operator, pandas as pd, matplotlib.pyplot as plt"
      ],
      "execution_count": null,
      "outputs": []
    },
    {
      "cell_type": "code",
      "metadata": {
        "id": "EQZHvzD6d2hJ"
      },
      "source": [
        "class City:\n",
        "  def __init__(self, x, y):\n",
        "    self.x = x\n",
        "    self.y = y\n",
        "\n",
        "  def distance(self, city):\n",
        "    xDis = abs(self.x - city.x)\n",
        "    yDis = abs(self.y - city.y)\n",
        "    distance = np.sqrt((xDis ** 2) + (yDis ** 2))\n",
        "    return distance\n",
        "\n",
        "  def __repr__(self):\n",
        "    return \"(\" + str(self.x) + \",\" + str(self.y)+ \")\""
      ],
      "execution_count": null,
      "outputs": []
    },
    {
      "cell_type": "code",
      "metadata": {
        "colab": {
          "base_uri": "https://localhost:8080/"
        },
        "id": "Nxgbcnx5d_8D",
        "outputId": "2d8d80b7-4e9b-4dc5-8dc5-79b7519ec0fc"
      },
      "source": [
        "jmlKota = 6\n",
        "cityList = []\n",
        "\n",
        "for i in range(0,jmlKota):\n",
        "  cityList.append(City(x=int(random.random() * 200),\n",
        "    y=int(random.random() * 200)))\n",
        "  \n",
        "print (cityList)  "
      ],
      "execution_count": null,
      "outputs": [
        {
          "output_type": "stream",
          "text": [
            "[(115,95), (42,88), (132,105), (130,163), (129,24), (140,73)]\n"
          ],
          "name": "stdout"
        }
      ]
    },
    {
      "cell_type": "code",
      "metadata": {
        "colab": {
          "base_uri": "https://localhost:8080/"
        },
        "id": "y4RldbkWgJBT",
        "outputId": "c05245d9-d7e5-43eb-a3ec-97fdad6e06ea"
      },
      "source": [
        "def createRoute(cityList):\n",
        "  route = random.sample(cityList, len(cityList))\n",
        "  return route\n",
        "  \n",
        "route = createRoute(cityList)\n",
        "print (\"rute :\", route)"
      ],
      "execution_count": null,
      "outputs": [
        {
          "output_type": "stream",
          "text": [
            "rute : [(42,88), (132,105), (129,24), (140,73), (130,163), (115,95)]\n"
          ],
          "name": "stdout"
        }
      ]
    },
    {
      "cell_type": "code",
      "metadata": {
        "colab": {
          "base_uri": "https://localhost:8080/"
        },
        "id": "j3Mp2cqTgNWi",
        "outputId": "24b13c47-79f3-4de3-e070-fea9fae3de55"
      },
      "source": [
        "def initialPopulation(popSize, cityList):\n",
        "  population = []\n",
        "  for i in range(0, popSize):\n",
        "    population.append(createRoute(cityList))\n",
        "  return population\n",
        "popSize = 4\n",
        "pop = initialPopulation(popSize, cityList)\n",
        "print (\"populasi : \", pop)"
      ],
      "execution_count": null,
      "outputs": [
        {
          "output_type": "stream",
          "text": [
            "populasi :  [[(140,73), (129,24), (115,95), (42,88), (132,105), (130,163)], [(140,73), (129,24), (130,163), (132,105), (42,88), (115,95)], [(132,105), (130,163), (129,24), (140,73), (115,95), (42,88)], [(129,24), (140,73), (42,88), (130,163), (115,95), (132,105)]]\n"
          ],
          "name": "stdout"
        }
      ]
    },
    {
      "cell_type": "code",
      "metadata": {
        "colab": {
          "base_uri": "https://localhost:8080/"
        },
        "id": "Cn6Y9LkogT78",
        "outputId": "f299d528-d84b-433c-f94e-4a6cbb38cd86"
      },
      "source": [
        "class Fitness:\n",
        "  def __init__(self, route):\n",
        "    self.route = route\n",
        "    self.distance = 0\n",
        "    self.fitness= 0.0\n",
        "\n",
        "  def routeDistance(self):\n",
        "    if self.distance ==0:\n",
        "      pathDistance = 0\n",
        "      for i in range(0, len(self.route)):\n",
        "        fromCity = self.route[i]\n",
        "        toCity = None\n",
        "        if i + 1 < len(self.route):\n",
        "          toCity = self.route[i + 1]\n",
        "        else:\n",
        "          toCity = self.route[0]\n",
        "        pathDistance += fromCity.distance(toCity)\n",
        "      self.distance = pathDistance\n",
        "    return self.distance \n",
        "\n",
        "  def routeFitness(self):\n",
        "      if self.fitness == 0:\n",
        "        self.fitness = 1 / float(self.routeDistance())\n",
        "      return self.fitness\n",
        "\n",
        "fitnessResults = {}\n",
        "for i in range(0,len(pop)):\n",
        "  fitnessResults[i] = Fitness(pop[i]).routeFitness()\n",
        "print(\"fitness :\", fitnessResults)      \n"
      ],
      "execution_count": null,
      "outputs": [
        {
          "output_type": "stream",
          "text": [
            "fitness : {0: 0.002293045246188027, 1: 0.0022447416091789874, 2: 0.002244741609178987, 3: 0.0022967459941925423}\n"
          ],
          "name": "stdout"
        }
      ]
    },
    {
      "cell_type": "code",
      "metadata": {
        "colab": {
          "base_uri": "https://localhost:8080/"
        },
        "id": "qDkqe-IkhZmC",
        "outputId": "5d2ad118-a5c9-412a-edff-d0c31d5e074d"
      },
      "source": [
        "def rankRoutes(population):\n",
        "  fitnessResults = {}\n",
        "  for i in range(0,len(population)):\n",
        "    fitnessResults[i] = Fitness(population[i]).routeFitness()\n",
        "  return sorted(fitnessResults.items(), key = operator.itemgetter(1), reverse = True)\n",
        "  \n",
        "popRanked = rankRoutes(pop)\n",
        "print(\"rank Routes :\", popRanked)"
      ],
      "execution_count": null,
      "outputs": [
        {
          "output_type": "stream",
          "text": [
            "rank Routes : [(3, 0.0022967459941925423), (0, 0.002293045246188027), (1, 0.0022447416091789874), (2, 0.002244741609178987)]\n"
          ],
          "name": "stdout"
        }
      ]
    },
    {
      "cell_type": "code",
      "metadata": {
        "colab": {
          "base_uri": "https://localhost:8080/"
        },
        "id": "uFEFCKMdh7f_",
        "outputId": "3f4041db-3e44-40e8-850c-fefda539a5cf"
      },
      "source": [
        "def selection(popRanked, eliteSize):\n",
        "  selectionResults = []\n",
        "  df = pd.DataFrame(np.array(popRanked),\n",
        "    columns=[\"Index\",\"Fitness\"])\n",
        "  df['cum_sum'] = df.Fitness.cumsum()\n",
        "  df['cum_perc'] = 100*df.cum_sum/df.Fitness.sum()\n",
        "\n",
        "  for i in range(0, eliteSize):\n",
        "    selectionResults.append(popRanked[i][0])\n",
        "  for i in range(0, len(popRanked) - eliteSize):\n",
        "    pick = 100*random.random()\n",
        "    for i in range(0, len(popRanked)):\n",
        "      if pick <= df.iat[i,3]:\n",
        "           selectionResults.append(popRanked[i][0])\n",
        "           break\n",
        "  return selectionResults\n",
        "  \n",
        "eliteSize = 2\n",
        "selectionResults = selection(popRanked, eliteSize)\n",
        "print (\" selection results :\" , selectionResults)"
      ],
      "execution_count": null,
      "outputs": [
        {
          "output_type": "stream",
          "text": [
            " selection results : [3, 0, 2, 2]\n"
          ],
          "name": "stdout"
        }
      ]
    },
    {
      "cell_type": "code",
      "metadata": {
        "colab": {
          "base_uri": "https://localhost:8080/"
        },
        "id": "esjndAA_imcP",
        "outputId": "d462e5df-a743-4a3b-b445-2ab4aec6f1bd"
      },
      "source": [
        "def matingPool(population, selectionResults):\n",
        "  matingpool = []\n",
        "  for i in range(0, len(selectionResults)):\n",
        "    index = selectionResults[i]\n",
        "    matingpool.append(population[index])\n",
        "  return matingpool\n",
        "currentGen = pop\n",
        "matingpool = matingPool(currentGen, selectionResults)\n",
        "print(\"matingPool :\",matingpool)"
      ],
      "execution_count": null,
      "outputs": [
        {
          "output_type": "stream",
          "text": [
            "matingPool : [[(129,24), (140,73), (42,88), (130,163), (115,95), (132,105)], [(140,73), (129,24), (115,95), (42,88), (132,105), (130,163)], [(132,105), (130,163), (129,24), (140,73), (115,95), (42,88)], [(132,105), (130,163), (129,24), (140,73), (115,95), (42,88)]]\n"
          ],
          "name": "stdout"
        }
      ]
    },
    {
      "cell_type": "code",
      "metadata": {
        "colab": {
          "base_uri": "https://localhost:8080/"
        },
        "id": "Z-BgYn8SisYB",
        "outputId": "597f3667-8474-42d0-e091-c9539756e049"
      },
      "source": [
        "def breedPopulation(matingpool, eliteSize):\n",
        "  children = []\n",
        "  length = len(matingpool) - eliteSize\n",
        "  pool = random.sample(matingpool, len(matingpool))\n",
        "\n",
        "  for i in range(0,eliteSize):\n",
        "    children.append(matingpool[i])\n",
        "  for i in range(0, length):\n",
        "    child = breed(pool[i], pool[len(matingpool)-i-1])\n",
        "    children.append(child)\n",
        "  return children\n",
        "\n",
        "def breed(parent1, parent2):\n",
        "  child = []\n",
        "  childP1 = []\n",
        "  childP2 = []\n",
        "  geneA = int(random.random() * len(parent1))\n",
        "  geneB = int(random.random() * len(parent1))\n",
        "  startGene = min(geneA, geneB)\n",
        "  endGene = max(geneA, geneB)\n",
        "  for i in range(startGene, endGene):\n",
        "    childP1.append(parent1[i])\n",
        "  childP2 = [item for item in parent2 if item not in childP1]\n",
        "  child = childP1 + childP2\n",
        "  return child\n",
        "children = breedPopulation(matingpool, eliteSize)\n",
        "print (\"chidren :\", children)"
      ],
      "execution_count": null,
      "outputs": [
        {
          "output_type": "stream",
          "text": [
            "chidren : [[(129,24), (140,73), (42,88), (130,163), (115,95), (132,105)], [(140,73), (129,24), (115,95), (42,88), (132,105), (130,163)], [(132,105), (130,163), (129,24), (140,73), (115,95), (42,88)], [(130,163), (115,95), (140,73), (129,24), (42,88), (132,105)]]\n"
          ],
          "name": "stdout"
        }
      ]
    },
    {
      "cell_type": "code",
      "metadata": {
        "colab": {
          "base_uri": "https://localhost:8080/"
        },
        "id": "2jZEnXlujXuC",
        "outputId": "c10e2fe7-a685-4495-bece-fd50decabd0d"
      },
      "source": [
        "def mutatePopulation(population, mutationRate):\n",
        "  mutatedPop = []\n",
        "  for ind in range(0, len(population)):\n",
        "    mutatedInd = mutate(population[ind],mutationRate)\n",
        "    mutatedPop.append(mutatedInd)\n",
        "  return mutatedPop\n",
        "\n",
        "def mutate(individual, mutationRate):\n",
        "  for swapped in range(len(individual)):\n",
        "    if(random.random() < mutationRate):\n",
        "      swapWith = int(random.random() * len(individual))\n",
        "      city1 = individual[swapped]\n",
        "      city2 = individual[swapWith]\n",
        "      individual[swapped] = city2\n",
        "      individual[swapWith] = city1\n",
        "  return individual\n",
        "\n",
        "mutationRate = 0.01\n",
        "children = mutatePopulation(children, mutationRate)\n",
        "nextGeneration = children\n",
        "print (\"nextGeneration :\",nextGeneration)"
      ],
      "execution_count": null,
      "outputs": [
        {
          "output_type": "stream",
          "text": [
            "nextGeneration : [[(129,24), (140,73), (42,88), (130,163), (115,95), (132,105)], [(140,73), (129,24), (115,95), (42,88), (132,105), (130,163)], [(115,95), (130,163), (129,24), (140,73), (132,105), (42,88)], [(130,163), (115,95), (140,73), (129,24), (42,88), (132,105)]]\n"
          ],
          "name": "stdout"
        }
      ]
    },
    {
      "cell_type": "code",
      "metadata": {
        "colab": {
          "base_uri": "https://localhost:8080/"
        },
        "id": "7LBOPnw5jv3_",
        "outputId": "7bbe6d97-eb46-4d0c-a74e-1d09ca91d151"
      },
      "source": [
        "def geneticAlgorithm(population, popSize, eliteSize,mutationRate, generations):\n",
        "  pop = initialPopulation(popSize, population)\n",
        "  print(\"Initial distance: \" + str(1 / rankRoutes(pop)[0][1]))\n",
        "\n",
        "  for i in range(0, generations):\n",
        "    pop = nextGeneration(pop,eliteSize,mutationRate)\n",
        "\n",
        "  print(\"Final distance: \" + str(1 /rankRoutes(pop)[0][1]))\n",
        "  bestRouteIndex = rankRoutes(pop)[0][0]\n",
        "  bestRoute = pop[bestRouteIndex]\n",
        "  return bestRoute\n",
        "\n",
        "def nextGeneration(currentGen, eliteSize, mutationRate):\n",
        "  popRanked = rankRoutes(currentGen)\n",
        "  selectionResults = selection(popRanked, eliteSize)\n",
        "  matingpool = matingPool(currentGen,selectionResults)\n",
        "  children = breedPopulation(matingpool, eliteSize)\n",
        "  nextGeneration = mutatePopulation(children,mutationRate)\n",
        "  return nextGeneration\n",
        "\n",
        "geneticAlgorithm(population=cityList, popSize = 10, eliteSize=2, mutationRate=0.01, generations=500)"
      ],
      "execution_count": null,
      "outputs": [
        {
          "output_type": "stream",
          "text": [
            "Initial distance: 384.9077465868536\n",
            "Final distance: 384.9077465868536\n"
          ],
          "name": "stdout"
        },
        {
          "output_type": "execute_result",
          "data": {
            "text/plain": [
              "[(42,88), (130,163), (132,105), (115,95), (140,73), (129,24)]"
            ]
          },
          "metadata": {
            "tags": []
          },
          "execution_count": 32
        }
      ]
    }
  ]
}